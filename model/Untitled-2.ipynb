{
 "cells": [
  {
   "cell_type": "code",
   "execution_count": 41,
   "metadata": {},
   "outputs": [
    {
     "name": "stdout",
     "output_type": "stream",
     "text": [
      "The shape is: torch.Size([1, 1280, 7, 7])\n",
      "9\n"
     ]
    }
   ],
   "source": [
    "import torch\n",
    "import torch.nn as nn\n",
    "import torchvision.models as models\n",
    "from torchvision.models import EfficientNet_B0_Weights\n",
    "\n",
    "class EfficientNetFeatureExtractor(nn.Module):\n",
    "    def __init__(self, model_name='efficientnet_b0'):\n",
    "        super(EfficientNetFeatureExtractor, self).__init__()\n",
    "        # Load the pre-trained EfficientNet\n",
    "        self.model = models.efficientnet_b0(weights=EfficientNet_B0_Weights.DEFAULT)\n",
    "\n",
    "        # final layer feature\n",
    "        self.feature_blocks = self.model.features\n",
    "\n",
    "    def forward(self, x):\n",
    "        features = []\n",
    "\n",
    "        # Stages 1 to 8\n",
    "        for block in self.feature_blocks:\n",
    "            x = block(x)\n",
    "            features.append(x)\n",
    "\n",
    "        return features\n",
    "\n",
    "# Example usage\n",
    "model = EfficientNetFeatureExtractor()\n",
    "input_tensor = torch.rand(1, 3, 224, 224)  # Example input tensor\n",
    "features = model(input_tensor)\n",
    "\n",
    "# features is a list where each element is the output of a stage\n",
    "print(len(features))\n"
   ]
  },
  {
   "cell_type": "code",
   "execution_count": 39,
   "metadata": {},
   "outputs": [
    {
     "name": "stdout",
     "output_type": "stream",
     "text": [
      "torch.Size([1, 32, 112, 112])\n",
      "torch.Size([1, 16, 112, 112])\n",
      "torch.Size([1, 24, 56, 56])\n",
      "torch.Size([1, 40, 28, 28])\n",
      "torch.Size([1, 80, 14, 14])\n",
      "torch.Size([1, 112, 14, 14])\n",
      "torch.Size([1, 192, 7, 7])\n",
      "torch.Size([1, 320, 7, 7])\n",
      "torch.Size([1, 1280, 7, 7])\n"
     ]
    }
   ],
   "source": [
    "for ll in features:\n",
    "    print(ll.shape)"
   ]
  },
  {
   "cell_type": "code",
   "execution_count": 9,
   "metadata": {},
   "outputs": [
    {
     "name": "stdout",
     "output_type": "stream",
     "text": [
      "Total params for model:  5M\n"
     ]
    }
   ],
   "source": [
    "print('Total params for model: %2.fM' % (sum(p.numel() for p in model.parameters()) / 1000000.0)) "
   ]
  },
  {
   "cell_type": "code",
   "execution_count": null,
   "metadata": {},
   "outputs": [],
   "source": []
  }
 ],
 "metadata": {
  "kernelspec": {
   "display_name": "TBPReID",
   "language": "python",
   "name": "python3"
  },
  "language_info": {
   "codemirror_mode": {
    "name": "ipython",
    "version": 3
   },
   "file_extension": ".py",
   "mimetype": "text/x-python",
   "name": "python",
   "nbconvert_exporter": "python",
   "pygments_lexer": "ipython3",
   "version": "3.10.11"
  },
  "orig_nbformat": 4
 },
 "nbformat": 4,
 "nbformat_minor": 2
}
